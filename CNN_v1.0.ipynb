{
 "cells": [
  {
   "cell_type": "code",
   "execution_count": 15,
   "id": "0f8de1b1",
   "metadata": {},
   "outputs": [],
   "source": [
    "import numpy as np\n",
    "import pandas as pd\n",
    "%matplotlib inline\n",
    "import matplotlib as mpl\n",
    "import matplotlib.pyplot as plt "
   ]
  },
  {
   "cell_type": "code",
   "execution_count": 16,
   "id": "ecf94fd2",
   "metadata": {},
   "outputs": [],
   "source": [
    "import tensorflow as tf\n",
    "from tensorflow import keras"
   ]
  },
  {
   "cell_type": "code",
   "execution_count": 17,
   "id": "3fd7d651",
   "metadata": {},
   "outputs": [],
   "source": [
    "fashion_mnist = keras.datasets.fashion_mnist\n",
    "(X_train_full, y_train_full), (X_test, y_test) = fashion_mnist.load_data()"
   ]
  },
  {
   "cell_type": "code",
   "execution_count": 18,
   "id": "1f3cb5dc",
   "metadata": {},
   "outputs": [],
   "source": [
    "class_names = [\"T=shirt/top\", \"Trouser\", \"Pullover\", \"Dress\", \"Coat\", \"Sandal\", \"Shirt\", \"Sneaker\", \"Bag\", \"Ankle boot\"]"
   ]
  },
  {
   "cell_type": "code",
   "execution_count": 19,
   "id": "fa629b65",
   "metadata": {},
   "outputs": [],
   "source": [
    "X_train_full = X_train_full.reshape((60000, 28, 28, 1))\n",
    "X_test = X_test.reshape((10000, 28, 28, 1))"
   ]
  },
  {
   "cell_type": "code",
   "execution_count": 20,
   "id": "80235797",
   "metadata": {},
   "outputs": [],
   "source": [
    "X_train_n = X_train_full / 255.\n",
    "X_test_n = X_test / 255."
   ]
  },
  {
   "cell_type": "code",
   "execution_count": 21,
   "id": "9c3d22bd",
   "metadata": {},
   "outputs": [],
   "source": [
    "X_valid, X_train = X_train_n[:5000], X_train_n[5000:]\n",
    "y_valid, y_train = y_train_full[:5000], y_train_full[5000:]\n",
    "X_test = X_test_n"
   ]
  },
  {
   "cell_type": "code",
   "execution_count": 22,
   "id": "6c2e72f8",
   "metadata": {},
   "outputs": [],
   "source": [
    "np.random.seed(42)\n",
    "tf.random.set_seed(42)"
   ]
  },
  {
   "cell_type": "code",
   "execution_count": 23,
   "id": "e0368ce0",
   "metadata": {},
   "outputs": [],
   "source": [
    "model = keras.models.Sequential()\n",
    "model.add(keras.layers.Conv2D(filters = 32, kernel_size = (3, 3), strides=1, padding='valid', activation='relu', input_shape=(28, 28, 1)))\n",
    "model.add(keras.layers.MaxPooling2D((2, 2)))\n",
    "\n",
    "model.add(keras.layers.Flatten())\n",
    "model.add(keras.layers.Dense(300, activation=\"relu\"))\n",
    "model.add(keras.layers.Dense(100, activation=\"relu\"))\n",
    "model.add(keras.layers.Dense(10, activation=\"softmax\"))"
   ]
  },
  {
   "cell_type": "code",
   "execution_count": 24,
   "id": "6c71169f",
   "metadata": {},
   "outputs": [
    {
     "name": "stdout",
     "output_type": "stream",
     "text": [
      "Model: \"sequential\"\n",
      "_________________________________________________________________\n",
      "Layer (type)                 Output Shape              Param #   \n",
      "=================================================================\n",
      "conv2d (Conv2D)              (None, 26, 26, 32)        320       \n",
      "_________________________________________________________________\n",
      "max_pooling2d (MaxPooling2D) (None, 13, 13, 32)        0         \n",
      "_________________________________________________________________\n",
      "flatten (Flatten)            (None, 5408)              0         \n",
      "_________________________________________________________________\n",
      "dense (Dense)                (None, 300)               1622700   \n",
      "_________________________________________________________________\n",
      "dense_1 (Dense)              (None, 100)               30100     \n",
      "_________________________________________________________________\n",
      "dense_2 (Dense)              (None, 10)                1010      \n",
      "=================================================================\n",
      "Total params: 1,654,130\n",
      "Trainable params: 1,654,130\n",
      "Non-trainable params: 0\n",
      "_________________________________________________________________\n"
     ]
    }
   ],
   "source": [
    "model.summary()"
   ]
  },
  {
   "cell_type": "code",
   "execution_count": 25,
   "id": "782c52eb",
   "metadata": {},
   "outputs": [],
   "source": [
    "model.compile(loss=\"sparse_categorical_crossentropy\",\n",
    "              optimizer=\"sgd\",\n",
    "              metrics=[\"accuracy\"])"
   ]
  },
  {
   "cell_type": "code",
   "execution_count": 26,
   "id": "ad86ac2b",
   "metadata": {},
   "outputs": [
    {
     "name": "stdout",
     "output_type": "stream",
     "text": [
      "Epoch 1/30\n",
      "860/860 [==============================] - 25s 29ms/step - loss: 0.8775 - accuracy: 0.6987 - val_loss: 0.7581 - val_accuracy: 0.7340\n",
      "Epoch 2/30\n",
      "860/860 [==============================] - 27s 32ms/step - loss: 0.5389 - accuracy: 0.8049 - val_loss: 0.4946 - val_accuracy: 0.8162\n",
      "Epoch 3/30\n",
      "860/860 [==============================] - 26s 30ms/step - loss: 0.4812 - accuracy: 0.8261 - val_loss: 0.9108 - val_accuracy: 0.7126\n",
      "Epoch 4/30\n",
      "860/860 [==============================] - 26s 30ms/step - loss: 0.4438 - accuracy: 0.8415 - val_loss: 0.4131 - val_accuracy: 0.8568\n",
      "Epoch 5/30\n",
      "860/860 [==============================] - 24s 28ms/step - loss: 0.4197 - accuracy: 0.8499 - val_loss: 0.4364 - val_accuracy: 0.8480\n",
      "Epoch 6/30\n",
      "860/860 [==============================] - 24s 28ms/step - loss: 0.3957 - accuracy: 0.8581 - val_loss: 0.3770 - val_accuracy: 0.8716\n",
      "Epoch 7/30\n",
      "860/860 [==============================] - 23s 26ms/step - loss: 0.3781 - accuracy: 0.8662 - val_loss: 0.4068 - val_accuracy: 0.8552\n",
      "Epoch 8/30\n",
      "860/860 [==============================] - 26s 30ms/step - loss: 0.3631 - accuracy: 0.8695 - val_loss: 0.5013 - val_accuracy: 0.8152\n",
      "Epoch 9/30\n",
      "860/860 [==============================] - 27s 31ms/step - loss: 0.3489 - accuracy: 0.8738 - val_loss: 0.3719 - val_accuracy: 0.8662\n",
      "Epoch 10/30\n",
      "860/860 [==============================] - 26s 30ms/step - loss: 0.3369 - accuracy: 0.8785 - val_loss: 0.3821 - val_accuracy: 0.8604\n",
      "Epoch 11/30\n",
      "860/860 [==============================] - 25s 29ms/step - loss: 0.3246 - accuracy: 0.8820 - val_loss: 0.3415 - val_accuracy: 0.8778\n",
      "Epoch 12/30\n",
      "860/860 [==============================] - 26s 31ms/step - loss: 0.3133 - accuracy: 0.8863 - val_loss: 0.3224 - val_accuracy: 0.8876\n",
      "Epoch 13/30\n",
      "860/860 [==============================] - 26s 31ms/step - loss: 0.3061 - accuracy: 0.8890 - val_loss: 0.3319 - val_accuracy: 0.8860\n",
      "Epoch 14/30\n",
      "860/860 [==============================] - 27s 32ms/step - loss: 0.2974 - accuracy: 0.8914 - val_loss: 0.3856 - val_accuracy: 0.8584\n",
      "Epoch 15/30\n",
      "860/860 [==============================] - 35s 40ms/step - loss: 0.2895 - accuracy: 0.8954 - val_loss: 0.3841 - val_accuracy: 0.8598\n",
      "Epoch 16/30\n",
      "860/860 [==============================] - 47s 55ms/step - loss: 0.2831 - accuracy: 0.8974 - val_loss: 0.2953 - val_accuracy: 0.8950\n",
      "Epoch 17/30\n",
      "860/860 [==============================] - 50s 58ms/step - loss: 0.2755 - accuracy: 0.8999 - val_loss: 0.4066 - val_accuracy: 0.8596\n",
      "Epoch 18/30\n",
      "860/860 [==============================] - 46s 53ms/step - loss: 0.2701 - accuracy: 0.9011 - val_loss: 0.3495 - val_accuracy: 0.8748\n",
      "Epoch 19/30\n",
      "860/860 [==============================] - 29s 34ms/step - loss: 0.2639 - accuracy: 0.9038 - val_loss: 0.3074 - val_accuracy: 0.8904\n",
      "Epoch 20/30\n",
      "860/860 [==============================] - 27s 31ms/step - loss: 0.2583 - accuracy: 0.9057 - val_loss: 0.3250 - val_accuracy: 0.8842\n",
      "Epoch 21/30\n",
      "860/860 [==============================] - 27s 31ms/step - loss: 0.2526 - accuracy: 0.9084 - val_loss: 0.2830 - val_accuracy: 0.9002\n",
      "Epoch 22/30\n",
      "860/860 [==============================] - 32s 37ms/step - loss: 0.2472 - accuracy: 0.9094 - val_loss: 0.2861 - val_accuracy: 0.8970\n",
      "Epoch 23/30\n",
      "860/860 [==============================] - 29s 33ms/step - loss: 0.2418 - accuracy: 0.9109 - val_loss: 0.2783 - val_accuracy: 0.9030\n",
      "Epoch 24/30\n",
      "860/860 [==============================] - 26s 31ms/step - loss: 0.2367 - accuracy: 0.9129 - val_loss: 0.2997 - val_accuracy: 0.8908\n",
      "Epoch 25/30\n",
      "860/860 [==============================] - 25s 29ms/step - loss: 0.2323 - accuracy: 0.9157 - val_loss: 0.2895 - val_accuracy: 0.8966\n",
      "Epoch 26/30\n",
      "860/860 [==============================] - 31s 36ms/step - loss: 0.2285 - accuracy: 0.9157 - val_loss: 0.2775 - val_accuracy: 0.9030\n",
      "Epoch 27/30\n",
      "860/860 [==============================] - 54s 63ms/step - loss: 0.2244 - accuracy: 0.9183 - val_loss: 0.2703 - val_accuracy: 0.9014\n",
      "Epoch 28/30\n",
      "860/860 [==============================] - 46s 54ms/step - loss: 0.2197 - accuracy: 0.9191 - val_loss: 0.3066 - val_accuracy: 0.8910\n",
      "Epoch 29/30\n",
      "860/860 [==============================] - 50s 58ms/step - loss: 0.2145 - accuracy: 0.9214 - val_loss: 0.2715 - val_accuracy: 0.9034\n",
      "Epoch 30/30\n",
      "860/860 [==============================] - 52s 61ms/step - loss: 0.2115 - accuracy: 0.9218 - val_loss: 0.2706 - val_accuracy: 0.9054\n"
     ]
    }
   ],
   "source": [
    "model_history = model.fit(X_train, y_train, epochs=30,batch_size= 64,\n",
    "                    validation_data=(X_valid, y_valid))"
   ]
  },
  {
   "cell_type": "code",
   "execution_count": 27,
   "id": "cf9d26cc",
   "metadata": {},
   "outputs": [
    {
     "data": {
      "image/png": "[encoded data removed]",
      "text/plain": [
       "<Figure size 576x360 with 1 Axes>"
      ]
     },
     "metadata": {
      "needs_background": "light"
     },
     "output_type": "display_data"
    }
   ],
   "source": [
    "import pandas as pd\n",
    "\n",
    "pd.DataFrame(model_history.history).plot(figsize=(8, 5))\n",
    "plt.grid(True)\n",
    "plt.gca().set_ylim(0, 1)\n",
    "plt.show()"
   ]
  },
  {
   "cell_type": "code",
   "execution_count": 28,
   "id": "316944fb",
   "metadata": {},
   "outputs": [
    {
     "name": "stdout",
     "output_type": "stream",
     "text": [
      "313/313 [==============================] - 4s 12ms/step - loss: 0.2800 - accuracy: 0.8997A: 0s - los\n"
     ]
    }
   ],
   "source": [
    "ev = model.evaluate(X_test_n, y_test)"
   ]
  },
  {
   "cell_type": "code",
   "execution_count": 29,
   "id": "40bf5d46",
   "metadata": {},
   "outputs": [
    {
     "data": {
      "text/plain": [
       "[0.2799721360206604, 0.8996999859809875]"
      ]
     },
     "execution_count": 29,
     "metadata": {},
     "output_type": "execute_result"
    }
   ],
   "source": [
    "ev"
   ]
  },
  {
   "cell_type": "code",
   "execution_count": 30,
   "id": "fd376eb7",
   "metadata": {},
   "outputs": [],
   "source": [
    "X_new = X_test[:3]"
   ]
  },
  {
   "cell_type": "code",
   "execution_count": 31,
   "id": "777309c2",
   "metadata": {},
   "outputs": [
    {
     "name": "stdout",
     "output_type": "stream",
     "text": [
      "WARNING:tensorflow:From <ipython-input-31-81ace37e545f>:1: Sequential.predict_classes (from tensorflow.python.keras.engine.sequential) is deprecated and will be removed after 2021-01-01.\n",
      "Instructions for updating:\n",
      "Please use instead:* `np.argmax(model.predict(x), axis=-1)`,   if your model does multi-class classification   (e.g. if it uses a `softmax` last-layer activation).* `(model.predict(x) > 0.5).astype(\"int32\")`,   if your model does binary classification   (e.g. if it uses a `sigmoid` last-layer activation).\n"
     ]
    },
    {
     "data": {
      "text/plain": [
       "array([9, 2, 1], dtype=int64)"
      ]
     },
     "execution_count": 31,
     "metadata": {},
     "output_type": "execute_result"
    }
   ],
   "source": [
    "y_pred = model.predict_classes(X_new)\n",
    "y_pred"
   ]
  },
  {
   "cell_type": "code",
   "execution_count": 32,
   "id": "09ca72f5",
   "metadata": {},
   "outputs": [
    {
     "data": {
      "text/plain": [
       "array([9, 2, 1], dtype=uint8)"
      ]
     },
     "execution_count": 32,
     "metadata": {},
     "output_type": "execute_result"
    }
   ],
   "source": [
    "y_test[:3]"
   ]
  },
  {
   "cell_type": "code",
   "execution_count": 33,
   "id": "65151da4",
   "metadata": {},
   "outputs": [
    {
     "name": "stdout",
     "output_type": "stream",
     "text": [
      "AxesImage(54,36;334.8x217.44)\n"
     ]
    },
    {
     "data": {
      "image/png": "[encoded data removed]",
      "text/plain": [
       "<Figure size 432x288 with 1 Axes>"
      ]
     },
     "metadata": {
      "needs_background": "light"
     },
     "output_type": "display_data"
    }
   ],
   "source": [
    "print(plt.imshow(X_test[0].reshape((28,28))))"
   ]
  },
  {
   "cell_type": "code",
   "execution_count": null,
   "id": "8bed1362",
   "metadata": {},
   "outputs": [],
   "source": []
  },
  {
   "cell_type": "code",
   "execution_count": null,
   "id": "a4729408",
   "metadata": {},
   "outputs": [],
   "source": []
  },
  {
   "cell_type": "code",
   "execution_count": null,
   "id": "c110f200",
   "metadata": {},
   "outputs": [],
   "source": []
  }
 ],
 "metadata": {
  "kernelspec": {
   "display_name": "Python 3",
   "language": "python",
   "name": "python3"
  },
  "language_info": {
   "codemirror_mode": {
    "name": "ipython",
    "version": 3
   },
   "file_extension": ".py",
   "mimetype": "text/x-python",
   "name": "python",
   "nbconvert_exporter": "python",
   "pygments_lexer": "ipython3",
   "version": "3.8.10"
  }
 },
 "nbformat": 4,
 "nbformat_minor": 5
}
